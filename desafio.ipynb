{
  "nbformat": 4,
  "nbformat_minor": 0,
  "metadata": {
    "colab": {
      "provenance": [],
      "authorship_tag": "ABX9TyPPULzwi9bR3JCvak/VzetT",
      "include_colab_link": true
    },
    "kernelspec": {
      "name": "python3",
      "display_name": "Python 3"
    },
    "language_info": {
      "name": "python"
    }
  },
  "cells": [
    {
      "cell_type": "markdown",
      "metadata": {
        "id": "view-in-github",
        "colab_type": "text"
      },
      "source": [
        "<a href=\"https://colab.research.google.com/github/jcnborges/AutomaticHWCorrector/blob/main/desafio.ipynb\" target=\"_parent\"><img src=\"https://colab.research.google.com/assets/colab-badge.svg\" alt=\"Open In Colab\"/></a>"
      ]
    },
    {
      "cell_type": "code",
      "execution_count": null,
      "metadata": {
        "id": "s408iF5FquOB"
      },
      "outputs": [],
      "source": [
        "\"\"\"\n",
        "At the command line, only need to run once to install the package via pip:\n",
        "\n",
        "$ pip install google-generativeai\n",
        "\"\"\"\n",
        "\n",
        "from pathlib import Path\n",
        "import hashlib\n",
        "import google.generativeai as genai\n",
        "\n",
        "genai.configure(api_key=\"YOUR_API_KEY\")\n",
        "pdf_lista = \"https://github.com/jcnborges/AutomaticHWCorrector/teste/Lista 1 - Revisão da linguagem Java.pdf\"\n",
        "zip_gabarito = \"https://github.com/jcnborges/AutomaticHWCorrector/teste/gabarito.zip\"\n",
        "zip_respostas = \"https://github.com/jcnborges/AutomaticHWCorrector/teste/respostas.zip\"\n",
        "\n",
        "# Set up the model\n",
        "generation_config = {\n",
        "  \"temperature\": 1,\n",
        "  \"top_p\": 0.95,\n",
        "  \"top_k\": 0,\n",
        "  \"max_output_tokens\": 8192,\n",
        "}\n",
        "\n",
        "safety_settings = [\n",
        "  {\n",
        "    \"category\": \"HARM_CATEGORY_HARASSMENT\",\n",
        "    \"threshold\": \"BLOCK_MEDIUM_AND_ABOVE\"\n",
        "  },\n",
        "  {\n",
        "    \"category\": \"HARM_CATEGORY_HATE_SPEECH\",\n",
        "    \"threshold\": \"BLOCK_MEDIUM_AND_ABOVE\"\n",
        "  },\n",
        "  {\n",
        "    \"category\": \"HARM_CATEGORY_SEXUALLY_EXPLICIT\",\n",
        "    \"threshold\": \"BLOCK_MEDIUM_AND_ABOVE\"\n",
        "  },\n",
        "  {\n",
        "    \"category\": \"HARM_CATEGORY_DANGEROUS_CONTENT\",\n",
        "    \"threshold\": \"BLOCK_MEDIUM_AND_ABOVE\"\n",
        "  },\n",
        "]\n",
        "\n",
        "system_instruction = \"Faça a avaliação das atividades como se fosse um professor de engenharia de software. Use o gabarito como modelo de resposta e o PDF para saber os enunciados de cada exercício. Para cada aluno, corrija os exercícios e atribua uma nota de 0 a 10, assim como média final. Depois que terminar a avaliação individual dos alunos, faça uma breve análise das dificuldades encontradas na turma como um todo.\"\n",
        "\n",
        "model = genai.GenerativeModel(model_name=\"gemini-1.5-pro-latest\",\n",
        "                              generation_config=generation_config,\n",
        "                              system_instruction=system_instruction,\n",
        "                              safety_settings=safety_settings)\n",
        "\n",
        "prompt_parts = [\n",
        "  f\"--- INÍCIO DO PDF {pdf_lista} ---\",\n",
        "  f\"--- INÍCIO DO ZIP {zip_gabarito} ---\",\n",
        "  f\"--- INÍCIO DO ZIP {zip_respostas} ---\",\n",
        "]\n",
        "\n",
        "response = model.generate_content(prompt_parts)\n",
        "print(response.text)"
      ]
    }
  ]
}